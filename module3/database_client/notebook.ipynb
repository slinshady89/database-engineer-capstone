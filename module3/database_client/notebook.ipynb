{
 "cells": [
  {
   "cell_type": "markdown",
   "metadata": {},
   "source": [
    "# Import Required Libraries\n",
    "Import the necessary libraries, such as MySQL connector and pandas."
   ]
  },
  {
   "cell_type": "code",
   "execution_count": 1,
   "metadata": {},
   "outputs": [
    {
     "name": "stdout",
     "output_type": "stream",
     "text": [
      "Dotenv loaded\n"
     ]
    }
   ],
   "source": [
    "# Import the necessary libraries\n",
    "# !pip install mysql-connector-python\n",
    "# !pip install pandas\n",
    "# !pip install python-dotenv\n",
    "\n",
    "import mysql.connector as connector\n",
    "from mysql.connector import errorcode\n",
    "from dotenv import load_dotenv\n",
    "import os\n",
    "\n",
    "if load_dotenv():\n",
    "    print(\"Dotenv loaded\")\n",
    "else:\n",
    "    print(\"Dotenv not loaded\")\n"
   ]
  },
  {
   "cell_type": "markdown",
   "metadata": {},
   "source": [
    "# Database Connection Setup\n",
    "## Task 1\n",
    "Set up the connection to the MySQL database using MySQL connector."
   ]
  },
  {
   "cell_type": "code",
   "execution_count": 3,
   "metadata": {},
   "outputs": [
    {
     "name": "stdout",
     "output_type": "stream",
     "text": [
      "Connection established successfully.\n"
     ]
    }
   ],
   "source": [
    "# Database Connection Setup\n",
    "\n",
    "# Define the database connection parameters\n",
    "db_config = {\n",
    "    'user':  os.getenv('DB_USER'),\n",
    "    'password': os.getenv('DB_PASSWORD'),\n",
    "    'host': '127.0.0.1',\n",
    "    'port': '3306',\n",
    "    'database': os.getenv('DB_NAME')\n",
    "}\n",
    "\n",
    "# Database Connection Setup with Error Handling\n",
    "try:\n",
    "    cnx = connector.connect(\n",
    "        user=os.getenv(\"DB_USER\"),\n",
    "        password=os.getenv(\"DB_PASSWORD\"),\n",
    "        host=\"127.0.0.1\",\n",
    "        port=\"3306\",\n",
    "        database=os.getenv(\"DB_NAME\"),\n",
    "    )\n",
    "    cursor = cnx.cursor()\n",
    "    print(\"Connection established successfully.\")\n",
    "except connector.Error as err:\n",
    "    if err.errno == errorcode.ER_ACCESS_DENIED_ERROR:\n",
    "        print(\"Access denied: Check your username or password.\")\n",
    "    elif err.errno == errorcode.ER_BAD_DB_ERROR:\n",
    "        print(\"Database does not exist.\")\n",
    "    else:\n",
    "        print(err)"
   ]
  },
  {
   "cell_type": "markdown",
   "metadata": {},
   "source": [
    "## Task 2\n",
    "show tables"
   ]
  },
  {
   "cell_type": "code",
   "execution_count": 4,
   "metadata": {},
   "outputs": [
    {
     "name": "stdout",
     "output_type": "stream",
     "text": [
      "('bookings',)\n",
      "('customers',)\n",
      "('deliverystatus',)\n",
      "('menuitems',)\n",
      "('menus',)\n",
      "('orders',)\n",
      "('ordersview',)\n",
      "('staff',)\n"
     ]
    }
   ],
   "source": [
    "# Show tables in the database\n",
    "try:\n",
    "    cursor.execute(\"SHOW TABLES\")\n",
    "    tables = cursor.fetchall()\n",
    "    for table in tables:\n",
    "        print(table)\n",
    "except connector.Error as err:\n",
    "    print(f\"Error: {err}\")"
   ]
  },
  {
   "cell_type": "markdown",
   "metadata": {},
   "source": [
    "## Task 3\n",
    "Query with table JOIN\n",
    "\n",
    "For the third and final task, Little Lemon need you to return specific details from your database. They require the full name and contact details for every customer that has placed an order greater than $60 for a promotional campaign. \n",
    "\n",
    "You can use the following steps to implement this functionality in your database directory:\n",
    "\n",
    "\n",
    "Step One: Identify which tables are required. To complete the query, you first need to identify which table has the required data. \n",
    "\n",
    "The bill paid can be found in Orders as TotalCost and the customer contact information can be found in the Customers table. \n",
    "\n",
    "When selecting attributes from a specific table, specify the table name, followed by a dot and the target attribute as below (Hint: select the column attributes that you will need). \n",
    "\n",
    "\n",
    "Step Two: Next, specify a table (Hint: The FROM keyword allows you to identify a table.)\n",
    "\n",
    "To join two tables, specify the type of JOIN and the attribute to join the table on. The tables must be joined on an attribute that is common to both tables (such as a common column).\n",
    "\n",
    "\n",
    "Step Three: Finally, include a clause to filter the data on. (Hint: the WHERE clause can be used to add conditional parameters.) \n",
    "\n",
    "When you have completed these steps, wrap this query as a string and pass it to the .execute() method of the cursor class. When executed, your SELECT query must extract the full name, contact details and bill amount for every customer who spent more than $60."
   ]
  },
  {
   "cell_type": "code",
   "execution_count": 8,
   "metadata": {},
   "outputs": [
    {
     "name": "stdout",
     "output_type": "stream",
     "text": [
      "Name: Jane Smith Contact Details: jane.smith@example.com Total Cost: 90.00\n",
      "Name: Bob Brown Contact Details: bob.brown@example.com Total Cost: 128.00\n"
     ]
    }
   ],
   "source": [
    "# Query to get full name and contact details for customers with orders greater than $60\n",
    "query = \"\"\"\n",
    "SELECT c.FullName, c.Email, o.TotalCost\n",
    "FROM Customers as c\n",
    "JOIN Orders as o ON c.CustomerID = o.CustomerID\n",
    "WHERE o.TotalCost > 60\n",
    "\"\"\"\n",
    "\n",
    "try:\n",
    "    cursor.execute(query)\n",
    "    results = cursor.fetchall()\n",
    "    for result in results:\n",
    "        print(\"Name:\", result[0], \"Contact Details:\", result[1], \"Total Cost:\", result[2])\n",
    "except connector.Error as err:\n",
    "    print(f\"Error: {err}\")"
   ]
  }
 ],
 "metadata": {
  "kernelspec": {
   "display_name": ".venv",
   "language": "python",
   "name": "python3"
  },
  "language_info": {
   "codemirror_mode": {
    "name": "ipython",
    "version": 3
   },
   "file_extension": ".py",
   "mimetype": "text/x-python",
   "name": "python",
   "nbconvert_exporter": "python",
   "pygments_lexer": "ipython3",
   "version": "3.12.4"
  }
 },
 "nbformat": 4,
 "nbformat_minor": 2
}
